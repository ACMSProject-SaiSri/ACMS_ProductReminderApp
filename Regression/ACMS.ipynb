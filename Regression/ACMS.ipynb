{
  "nbformat": 4,
  "nbformat_minor": 0,
  "metadata": {
    "colab": {
      "name": "ACMS.ipynb",
      "provenance": []
    },
    "kernelspec": {
      "name": "python3",
      "display_name": "Python 3"
    }
  },
  "cells": [
    {
      "cell_type": "code",
      "metadata": {
        "id": "ECnjqJR5CBsu",
        "colab_type": "code",
        "colab": {
          "base_uri": "https://localhost:8080/",
          "height": 306
        },
        "outputId": "9bc385e3-34f7-4a85-f00a-6bdf5fb0ef92"
      },
      "source": [
        "import pandas as pd\n",
        "import seaborn as sns\n",
        "import numpy as np\n",
        "from sklearn.model_selection import train_test_split\n",
        "import tensorflow as tf\n",
        "from tensorflow import keras\n",
        "from tensorflow.keras import layers\n",
        "!pip install git+https://github.com/tensorflow/docs\n",
        "import tensorflow_docs as tfdocs\n",
        "import tensorflow_docs.plots\n",
        "import tensorflow_docs.modeling\n",
        "print(tf.__version__)"
      ],
      "execution_count": 134,
      "outputs": [
        {
          "output_type": "stream",
          "text": [
            "Collecting git+https://github.com/tensorflow/docs\n",
            "  Cloning https://github.com/tensorflow/docs to /tmp/pip-req-build-x2hbpwie\n",
            "  Running command git clone -q https://github.com/tensorflow/docs /tmp/pip-req-build-x2hbpwie\n",
            "Requirement already satisfied (use --upgrade to upgrade): tensorflow-docs===0.0.064b684b2a78efa0b0b9fff43b04c18fc1ffed442- from git+https://github.com/tensorflow/docs in /usr/local/lib/python3.6/dist-packages\n",
            "Requirement already satisfied: astor in /usr/local/lib/python3.6/dist-packages (from tensorflow-docs===0.0.064b684b2a78efa0b0b9fff43b04c18fc1ffed442-) (0.8.1)\n",
            "Requirement already satisfied: absl-py in /usr/local/lib/python3.6/dist-packages (from tensorflow-docs===0.0.064b684b2a78efa0b0b9fff43b04c18fc1ffed442-) (0.9.0)\n",
            "Requirement already satisfied: protobuf in /usr/local/lib/python3.6/dist-packages (from tensorflow-docs===0.0.064b684b2a78efa0b0b9fff43b04c18fc1ffed442-) (3.10.0)\n",
            "Requirement already satisfied: pyyaml in /usr/local/lib/python3.6/dist-packages (from tensorflow-docs===0.0.064b684b2a78efa0b0b9fff43b04c18fc1ffed442-) (3.13)\n",
            "Requirement already satisfied: six in /usr/local/lib/python3.6/dist-packages (from absl-py->tensorflow-docs===0.0.064b684b2a78efa0b0b9fff43b04c18fc1ffed442-) (1.12.0)\n",
            "Requirement already satisfied: setuptools in /usr/local/lib/python3.6/dist-packages (from protobuf->tensorflow-docs===0.0.064b684b2a78efa0b0b9fff43b04c18fc1ffed442-) (47.1.1)\n",
            "Building wheels for collected packages: tensorflow-docs\n",
            "  Building wheel for tensorflow-docs (setup.py) ... \u001b[?25l\u001b[?25hdone\n",
            "  Created wheel for tensorflow-docs: filename=tensorflow_docs-0.0.064b684b2a78efa0b0b9fff43b04c18fc1ffed442_-cp36-none-any.whl size=114636 sha256=ce3f0d3344d8d86e684786e76c1816b517382db6fbe58a08bf88bb06a002aa40\n",
            "  Stored in directory: /tmp/pip-ephem-wheel-cache-l79ftxar/wheels/eb/1b/35/fce87697be00d2fc63e0b4b395b0d9c7e391a10e98d9a0d97f\n",
            "Successfully built tensorflow-docs\n",
            "2.2.0\n"
          ],
          "name": "stdout"
        }
      ]
    },
    {
      "cell_type": "code",
      "metadata": {
        "id": "5CE6KUftDBEW",
        "colab_type": "code",
        "outputId": "76271566-f59a-4b80-a114-a99de3775f7f",
        "colab": {
          "base_uri": "https://localhost:8080/",
          "height": 383
        }
      },
      "source": [
        "df = pd.read_csv(\"products.csv\")\n",
        "df_c = pd.read_csv(\"categories.csv\")\n",
        "df.head()"
      ],
      "execution_count": 135,
      "outputs": [
        {
          "output_type": "execute_result",
          "data": {
            "text/html": [
              "<div>\n",
              "<style scoped>\n",
              "    .dataframe tbody tr th:only-of-type {\n",
              "        vertical-align: middle;\n",
              "    }\n",
              "\n",
              "    .dataframe tbody tr th {\n",
              "        vertical-align: top;\n",
              "    }\n",
              "\n",
              "    .dataframe thead th {\n",
              "        text-align: right;\n",
              "    }\n",
              "</style>\n",
              "<table border=\"1\" class=\"dataframe\">\n",
              "  <thead>\n",
              "    <tr style=\"text-align: right;\">\n",
              "      <th></th>\n",
              "      <th>ID</th>\n",
              "      <th>Category_ID</th>\n",
              "      <th>Name</th>\n",
              "      <th>Name_subtitle</th>\n",
              "      <th>Keywords</th>\n",
              "      <th>Pantry_Min</th>\n",
              "      <th>Pantry_Max</th>\n",
              "      <th>Pantry_Metric</th>\n",
              "      <th>Pantry_tips</th>\n",
              "      <th>DOP_Pantry_Min</th>\n",
              "      <th>DOP_Pantry_Max</th>\n",
              "      <th>DOP_Pantry_Metric</th>\n",
              "      <th>DOP_Pantry_tips</th>\n",
              "      <th>Pantry_After_Opening_Min</th>\n",
              "      <th>Pantry_After_Opening_Max</th>\n",
              "      <th>Pantry_After_Opening_Metric</th>\n",
              "      <th>Refrigerate_Min</th>\n",
              "      <th>Refrigerate_Max</th>\n",
              "      <th>Refrigerate_Metric</th>\n",
              "      <th>Refrigerate_tips</th>\n",
              "      <th>DOP_Refrigerate_Min</th>\n",
              "      <th>DOP_Refrigerate_Max</th>\n",
              "      <th>DOP_Refrigerate_Metric</th>\n",
              "      <th>DOP_Refrigerate_tips</th>\n",
              "      <th>Refrigerate_After_Opening_Min</th>\n",
              "      <th>Refrigerate_After_Opening_Max</th>\n",
              "      <th>Refrigerate_After_Opening_Metric</th>\n",
              "      <th>Refrigerate_After_Thawing_Min</th>\n",
              "      <th>Refrigerate_After_Thawing_Max</th>\n",
              "      <th>Refrigerate_After_Thawing_Metric</th>\n",
              "      <th>Freeze_Min</th>\n",
              "      <th>Freeze_Max</th>\n",
              "      <th>Freeze_Metric</th>\n",
              "      <th>Freeze_Tips</th>\n",
              "      <th>DOP_Freeze_Min</th>\n",
              "      <th>DOP_Freeze_Max</th>\n",
              "      <th>DOP_Freeze_Metric</th>\n",
              "      <th>DOP_Freeze_Tips</th>\n",
              "    </tr>\n",
              "  </thead>\n",
              "  <tbody>\n",
              "    <tr>\n",
              "      <th>0</th>\n",
              "      <td>1</td>\n",
              "      <td>7</td>\n",
              "      <td>Butter</td>\n",
              "      <td>NaN</td>\n",
              "      <td>Butter</td>\n",
              "      <td>NaN</td>\n",
              "      <td>NaN</td>\n",
              "      <td>NaN</td>\n",
              "      <td>May be left at room temperature for 1 - 2 days.</td>\n",
              "      <td>NaN</td>\n",
              "      <td>NaN</td>\n",
              "      <td>NaN</td>\n",
              "      <td>NaN</td>\n",
              "      <td>NaN</td>\n",
              "      <td>NaN</td>\n",
              "      <td>NaN</td>\n",
              "      <td>NaN</td>\n",
              "      <td>NaN</td>\n",
              "      <td>NaN</td>\n",
              "      <td>NaN</td>\n",
              "      <td>1.0</td>\n",
              "      <td>2.0</td>\n",
              "      <td>Months</td>\n",
              "      <td>NaN</td>\n",
              "      <td>NaN</td>\n",
              "      <td>NaN</td>\n",
              "      <td>NaN</td>\n",
              "      <td>NaN</td>\n",
              "      <td>NaN</td>\n",
              "      <td>NaN</td>\n",
              "      <td>NaN</td>\n",
              "      <td>NaN</td>\n",
              "      <td>NaN</td>\n",
              "      <td>NaN</td>\n",
              "      <td>6.0</td>\n",
              "      <td>9.0</td>\n",
              "      <td>Months</td>\n",
              "      <td>NaN</td>\n",
              "    </tr>\n",
              "    <tr>\n",
              "      <th>1</th>\n",
              "      <td>2</td>\n",
              "      <td>7</td>\n",
              "      <td>Buttermilk</td>\n",
              "      <td>NaN</td>\n",
              "      <td>Buttermilk</td>\n",
              "      <td>NaN</td>\n",
              "      <td>NaN</td>\n",
              "      <td>NaN</td>\n",
              "      <td>NaN</td>\n",
              "      <td>NaN</td>\n",
              "      <td>NaN</td>\n",
              "      <td>NaN</td>\n",
              "      <td>NaN</td>\n",
              "      <td>NaN</td>\n",
              "      <td>NaN</td>\n",
              "      <td>NaN</td>\n",
              "      <td>NaN</td>\n",
              "      <td>NaN</td>\n",
              "      <td>NaN</td>\n",
              "      <td>NaN</td>\n",
              "      <td>1.0</td>\n",
              "      <td>2.0</td>\n",
              "      <td>Weeks</td>\n",
              "      <td>NaN</td>\n",
              "      <td>NaN</td>\n",
              "      <td>NaN</td>\n",
              "      <td>NaN</td>\n",
              "      <td>NaN</td>\n",
              "      <td>NaN</td>\n",
              "      <td>NaN</td>\n",
              "      <td>NaN</td>\n",
              "      <td>NaN</td>\n",
              "      <td>NaN</td>\n",
              "      <td>NaN</td>\n",
              "      <td>3.0</td>\n",
              "      <td>3.0</td>\n",
              "      <td>Months</td>\n",
              "      <td>NaN</td>\n",
              "    </tr>\n",
              "    <tr>\n",
              "      <th>2</th>\n",
              "      <td>3</td>\n",
              "      <td>7</td>\n",
              "      <td>Cheese</td>\n",
              "      <td>hard such as cheddar, swiss, block parmesan</td>\n",
              "      <td>Cheese,cheddar, swiss,parmesan</td>\n",
              "      <td>NaN</td>\n",
              "      <td>NaN</td>\n",
              "      <td>NaN</td>\n",
              "      <td>NaN</td>\n",
              "      <td>NaN</td>\n",
              "      <td>NaN</td>\n",
              "      <td>NaN</td>\n",
              "      <td>NaN</td>\n",
              "      <td>NaN</td>\n",
              "      <td>NaN</td>\n",
              "      <td>NaN</td>\n",
              "      <td>NaN</td>\n",
              "      <td>NaN</td>\n",
              "      <td>NaN</td>\n",
              "      <td>NaN</td>\n",
              "      <td>6.0</td>\n",
              "      <td>6.0</td>\n",
              "      <td>Months</td>\n",
              "      <td>NaN</td>\n",
              "      <td>3.0</td>\n",
              "      <td>4.0</td>\n",
              "      <td>Weeks</td>\n",
              "      <td>NaN</td>\n",
              "      <td>NaN</td>\n",
              "      <td>NaN</td>\n",
              "      <td>NaN</td>\n",
              "      <td>NaN</td>\n",
              "      <td>NaN</td>\n",
              "      <td>NaN</td>\n",
              "      <td>6.0</td>\n",
              "      <td>6.0</td>\n",
              "      <td>Months</td>\n",
              "      <td>NaN</td>\n",
              "    </tr>\n",
              "    <tr>\n",
              "      <th>3</th>\n",
              "      <td>4</td>\n",
              "      <td>7</td>\n",
              "      <td>Cheese</td>\n",
              "      <td>parmesan; shredded or grated</td>\n",
              "      <td>Cheese,parmesan,shredded,grated</td>\n",
              "      <td>NaN</td>\n",
              "      <td>NaN</td>\n",
              "      <td>NaN</td>\n",
              "      <td>NaN</td>\n",
              "      <td>NaN</td>\n",
              "      <td>NaN</td>\n",
              "      <td>NaN</td>\n",
              "      <td>NaN</td>\n",
              "      <td>NaN</td>\n",
              "      <td>NaN</td>\n",
              "      <td>NaN</td>\n",
              "      <td>NaN</td>\n",
              "      <td>NaN</td>\n",
              "      <td>NaN</td>\n",
              "      <td>NaN</td>\n",
              "      <td>12.0</td>\n",
              "      <td>12.0</td>\n",
              "      <td>Months</td>\n",
              "      <td>NaN</td>\n",
              "      <td>NaN</td>\n",
              "      <td>NaN</td>\n",
              "      <td>NaN</td>\n",
              "      <td>NaN</td>\n",
              "      <td>NaN</td>\n",
              "      <td>NaN</td>\n",
              "      <td>NaN</td>\n",
              "      <td>NaN</td>\n",
              "      <td>Not Recommended</td>\n",
              "      <td>NaN</td>\n",
              "      <td>NaN</td>\n",
              "      <td>NaN</td>\n",
              "      <td>NaN</td>\n",
              "      <td>NaN</td>\n",
              "    </tr>\n",
              "    <tr>\n",
              "      <th>4</th>\n",
              "      <td>5</td>\n",
              "      <td>7</td>\n",
              "      <td>Cheese</td>\n",
              "      <td>shredded; cheddar, mozzarella, etc.</td>\n",
              "      <td>Cheese,shredded,cheddar,mozzarella</td>\n",
              "      <td>NaN</td>\n",
              "      <td>NaN</td>\n",
              "      <td>NaN</td>\n",
              "      <td>NaN</td>\n",
              "      <td>NaN</td>\n",
              "      <td>NaN</td>\n",
              "      <td>NaN</td>\n",
              "      <td>NaN</td>\n",
              "      <td>NaN</td>\n",
              "      <td>NaN</td>\n",
              "      <td>NaN</td>\n",
              "      <td>NaN</td>\n",
              "      <td>NaN</td>\n",
              "      <td>NaN</td>\n",
              "      <td>NaN</td>\n",
              "      <td>1.0</td>\n",
              "      <td>1.0</td>\n",
              "      <td>Months</td>\n",
              "      <td>NaN</td>\n",
              "      <td>NaN</td>\n",
              "      <td>NaN</td>\n",
              "      <td>NaN</td>\n",
              "      <td>NaN</td>\n",
              "      <td>NaN</td>\n",
              "      <td>NaN</td>\n",
              "      <td>NaN</td>\n",
              "      <td>NaN</td>\n",
              "      <td>NaN</td>\n",
              "      <td>NaN</td>\n",
              "      <td>3.0</td>\n",
              "      <td>4.0</td>\n",
              "      <td>Months</td>\n",
              "      <td>NaN</td>\n",
              "    </tr>\n",
              "  </tbody>\n",
              "</table>\n",
              "</div>"
            ],
            "text/plain": [
              "   ID  Category_ID  ... DOP_Freeze_Metric DOP_Freeze_Tips\n",
              "0   1            7  ...            Months             NaN\n",
              "1   2            7  ...            Months             NaN\n",
              "2   3            7  ...            Months             NaN\n",
              "3   4            7  ...               NaN             NaN\n",
              "4   5            7  ...            Months             NaN\n",
              "\n",
              "[5 rows x 38 columns]"
            ]
          },
          "metadata": {
            "tags": []
          },
          "execution_count": 135
        }
      ]
    },
    {
      "cell_type": "code",
      "metadata": {
        "id": "nhrCy7UgtDJs",
        "colab_type": "code",
        "colab": {}
      },
      "source": [
        "df_f = df[['Category_ID','DOP_Refrigerate_Min','DOP_Refrigerate_Max','DOP_Refrigerate_Metric']]\n"
      ],
      "execution_count": 0,
      "outputs": []
    },
    {
      "cell_type": "code",
      "metadata": {
        "id": "2IIDF751tSZt",
        "colab_type": "code",
        "outputId": "42492f83-7fcc-4329-846d-82dd957ebb38",
        "colab": {
          "base_uri": "https://localhost:8080/",
          "height": 195
        }
      },
      "source": [
        "df_f.head()"
      ],
      "execution_count": 137,
      "outputs": [
        {
          "output_type": "execute_result",
          "data": {
            "text/html": [
              "<div>\n",
              "<style scoped>\n",
              "    .dataframe tbody tr th:only-of-type {\n",
              "        vertical-align: middle;\n",
              "    }\n",
              "\n",
              "    .dataframe tbody tr th {\n",
              "        vertical-align: top;\n",
              "    }\n",
              "\n",
              "    .dataframe thead th {\n",
              "        text-align: right;\n",
              "    }\n",
              "</style>\n",
              "<table border=\"1\" class=\"dataframe\">\n",
              "  <thead>\n",
              "    <tr style=\"text-align: right;\">\n",
              "      <th></th>\n",
              "      <th>Category_ID</th>\n",
              "      <th>DOP_Refrigerate_Min</th>\n",
              "      <th>DOP_Refrigerate_Max</th>\n",
              "      <th>DOP_Refrigerate_Metric</th>\n",
              "    </tr>\n",
              "  </thead>\n",
              "  <tbody>\n",
              "    <tr>\n",
              "      <th>0</th>\n",
              "      <td>7</td>\n",
              "      <td>1.0</td>\n",
              "      <td>2.0</td>\n",
              "      <td>Months</td>\n",
              "    </tr>\n",
              "    <tr>\n",
              "      <th>1</th>\n",
              "      <td>7</td>\n",
              "      <td>1.0</td>\n",
              "      <td>2.0</td>\n",
              "      <td>Weeks</td>\n",
              "    </tr>\n",
              "    <tr>\n",
              "      <th>2</th>\n",
              "      <td>7</td>\n",
              "      <td>6.0</td>\n",
              "      <td>6.0</td>\n",
              "      <td>Months</td>\n",
              "    </tr>\n",
              "    <tr>\n",
              "      <th>3</th>\n",
              "      <td>7</td>\n",
              "      <td>12.0</td>\n",
              "      <td>12.0</td>\n",
              "      <td>Months</td>\n",
              "    </tr>\n",
              "    <tr>\n",
              "      <th>4</th>\n",
              "      <td>7</td>\n",
              "      <td>1.0</td>\n",
              "      <td>1.0</td>\n",
              "      <td>Months</td>\n",
              "    </tr>\n",
              "  </tbody>\n",
              "</table>\n",
              "</div>"
            ],
            "text/plain": [
              "   Category_ID  DOP_Refrigerate_Min  DOP_Refrigerate_Max DOP_Refrigerate_Metric\n",
              "0            7                  1.0                  2.0                 Months\n",
              "1            7                  1.0                  2.0                  Weeks\n",
              "2            7                  6.0                  6.0                 Months\n",
              "3            7                 12.0                 12.0                 Months\n",
              "4            7                  1.0                  1.0                 Months"
            ]
          },
          "metadata": {
            "tags": []
          },
          "execution_count": 137
        }
      ]
    },
    {
      "cell_type": "code",
      "metadata": {
        "id": "dXq2yYmHui7v",
        "colab_type": "code",
        "outputId": "0c053e32-5602-4a18-c0cd-b616d2a4a084",
        "colab": {
          "base_uri": "https://localhost:8080/",
          "height": 118
        }
      },
      "source": [
        "df_f[\"mean_days\"] = df_f[['DOP_Refrigerate_Max','DOP_Refrigerate_Min']].mean(axis=1)"
      ],
      "execution_count": 138,
      "outputs": [
        {
          "output_type": "stream",
          "text": [
            "/usr/local/lib/python3.6/dist-packages/ipykernel_launcher.py:1: SettingWithCopyWarning: \n",
            "A value is trying to be set on a copy of a slice from a DataFrame.\n",
            "Try using .loc[row_indexer,col_indexer] = value instead\n",
            "\n",
            "See the caveats in the documentation: https://pandas.pydata.org/pandas-docs/stable/user_guide/indexing.html#returning-a-view-versus-a-copy\n",
            "  \"\"\"Entry point for launching an IPython kernel.\n"
          ],
          "name": "stderr"
        }
      ]
    },
    {
      "cell_type": "code",
      "metadata": {
        "id": "-nsQrM0ivIZI",
        "colab_type": "code",
        "outputId": "73653985-be56-4c8b-e2fe-56922f83e706",
        "colab": {
          "base_uri": "https://localhost:8080/",
          "height": 34
        }
      },
      "source": [
        "len(df_f)"
      ],
      "execution_count": 139,
      "outputs": [
        {
          "output_type": "execute_result",
          "data": {
            "text/plain": [
              "661"
            ]
          },
          "metadata": {
            "tags": []
          },
          "execution_count": 139
        }
      ]
    },
    {
      "cell_type": "code",
      "metadata": {
        "id": "hJE-HYmcvVoZ",
        "colab_type": "code",
        "colab": {}
      },
      "source": [
        "df_f = df_f.dropna()"
      ],
      "execution_count": 0,
      "outputs": []
    },
    {
      "cell_type": "code",
      "metadata": {
        "id": "QizpDfLUvZp4",
        "colab_type": "code",
        "outputId": "065f809f-e78e-403e-b027-2b5c5703f73b",
        "colab": {
          "base_uri": "https://localhost:8080/",
          "height": 34
        }
      },
      "source": [
        "df_f['DOP_Refrigerate_Metric'].unique()"
      ],
      "execution_count": 141,
      "outputs": [
        {
          "output_type": "execute_result",
          "data": {
            "text/plain": [
              "array(['Months', 'Weeks', 'Days', 'Years'], dtype=object)"
            ]
          },
          "metadata": {
            "tags": []
          },
          "execution_count": 141
        }
      ]
    },
    {
      "cell_type": "code",
      "metadata": {
        "id": "3uS8Eaq1wCY7",
        "colab_type": "code",
        "outputId": "8e7bf062-b261-4c96-c238-8221f3345fdb",
        "colab": {
          "base_uri": "https://localhost:8080/",
          "height": 195
        }
      },
      "source": [
        "mappings = {\"Months\":30,\"Weeks\":7,\"Days\":1,\"Years\":365}\n",
        "df_f.DOP_Refrigerate_Metric.replace(mappings,inplace=True)\n",
        "df_f.head()"
      ],
      "execution_count": 142,
      "outputs": [
        {
          "output_type": "execute_result",
          "data": {
            "text/html": [
              "<div>\n",
              "<style scoped>\n",
              "    .dataframe tbody tr th:only-of-type {\n",
              "        vertical-align: middle;\n",
              "    }\n",
              "\n",
              "    .dataframe tbody tr th {\n",
              "        vertical-align: top;\n",
              "    }\n",
              "\n",
              "    .dataframe thead th {\n",
              "        text-align: right;\n",
              "    }\n",
              "</style>\n",
              "<table border=\"1\" class=\"dataframe\">\n",
              "  <thead>\n",
              "    <tr style=\"text-align: right;\">\n",
              "      <th></th>\n",
              "      <th>Category_ID</th>\n",
              "      <th>DOP_Refrigerate_Min</th>\n",
              "      <th>DOP_Refrigerate_Max</th>\n",
              "      <th>DOP_Refrigerate_Metric</th>\n",
              "      <th>mean_days</th>\n",
              "    </tr>\n",
              "  </thead>\n",
              "  <tbody>\n",
              "    <tr>\n",
              "      <th>0</th>\n",
              "      <td>7</td>\n",
              "      <td>1.0</td>\n",
              "      <td>2.0</td>\n",
              "      <td>30</td>\n",
              "      <td>1.5</td>\n",
              "    </tr>\n",
              "    <tr>\n",
              "      <th>1</th>\n",
              "      <td>7</td>\n",
              "      <td>1.0</td>\n",
              "      <td>2.0</td>\n",
              "      <td>7</td>\n",
              "      <td>1.5</td>\n",
              "    </tr>\n",
              "    <tr>\n",
              "      <th>2</th>\n",
              "      <td>7</td>\n",
              "      <td>6.0</td>\n",
              "      <td>6.0</td>\n",
              "      <td>30</td>\n",
              "      <td>6.0</td>\n",
              "    </tr>\n",
              "    <tr>\n",
              "      <th>3</th>\n",
              "      <td>7</td>\n",
              "      <td>12.0</td>\n",
              "      <td>12.0</td>\n",
              "      <td>30</td>\n",
              "      <td>12.0</td>\n",
              "    </tr>\n",
              "    <tr>\n",
              "      <th>4</th>\n",
              "      <td>7</td>\n",
              "      <td>1.0</td>\n",
              "      <td>1.0</td>\n",
              "      <td>30</td>\n",
              "      <td>1.0</td>\n",
              "    </tr>\n",
              "  </tbody>\n",
              "</table>\n",
              "</div>"
            ],
            "text/plain": [
              "   Category_ID  DOP_Refrigerate_Min  ...  DOP_Refrigerate_Metric  mean_days\n",
              "0            7                  1.0  ...                      30        1.5\n",
              "1            7                  1.0  ...                       7        1.5\n",
              "2            7                  6.0  ...                      30        6.0\n",
              "3            7                 12.0  ...                      30       12.0\n",
              "4            7                  1.0  ...                      30        1.0\n",
              "\n",
              "[5 rows x 5 columns]"
            ]
          },
          "metadata": {
            "tags": []
          },
          "execution_count": 142
        }
      ]
    },
    {
      "cell_type": "code",
      "metadata": {
        "id": "aMFA6J-1y1WZ",
        "colab_type": "code",
        "colab": {}
      },
      "source": [
        "df_f['mean_days'] = df_f['mean_days']*df_f['DOP_Refrigerate_Metric']"
      ],
      "execution_count": 0,
      "outputs": []
    },
    {
      "cell_type": "code",
      "metadata": {
        "id": "l_aYVTsqzQy3",
        "colab_type": "code",
        "outputId": "eccd9509-6f5d-41fd-886b-93b2220b73ab",
        "colab": {
          "base_uri": "https://localhost:8080/",
          "height": 195
        }
      },
      "source": [
        "df_f.head()"
      ],
      "execution_count": 144,
      "outputs": [
        {
          "output_type": "execute_result",
          "data": {
            "text/html": [
              "<div>\n",
              "<style scoped>\n",
              "    .dataframe tbody tr th:only-of-type {\n",
              "        vertical-align: middle;\n",
              "    }\n",
              "\n",
              "    .dataframe tbody tr th {\n",
              "        vertical-align: top;\n",
              "    }\n",
              "\n",
              "    .dataframe thead th {\n",
              "        text-align: right;\n",
              "    }\n",
              "</style>\n",
              "<table border=\"1\" class=\"dataframe\">\n",
              "  <thead>\n",
              "    <tr style=\"text-align: right;\">\n",
              "      <th></th>\n",
              "      <th>Category_ID</th>\n",
              "      <th>DOP_Refrigerate_Min</th>\n",
              "      <th>DOP_Refrigerate_Max</th>\n",
              "      <th>DOP_Refrigerate_Metric</th>\n",
              "      <th>mean_days</th>\n",
              "    </tr>\n",
              "  </thead>\n",
              "  <tbody>\n",
              "    <tr>\n",
              "      <th>0</th>\n",
              "      <td>7</td>\n",
              "      <td>1.0</td>\n",
              "      <td>2.0</td>\n",
              "      <td>30</td>\n",
              "      <td>45.0</td>\n",
              "    </tr>\n",
              "    <tr>\n",
              "      <th>1</th>\n",
              "      <td>7</td>\n",
              "      <td>1.0</td>\n",
              "      <td>2.0</td>\n",
              "      <td>7</td>\n",
              "      <td>10.5</td>\n",
              "    </tr>\n",
              "    <tr>\n",
              "      <th>2</th>\n",
              "      <td>7</td>\n",
              "      <td>6.0</td>\n",
              "      <td>6.0</td>\n",
              "      <td>30</td>\n",
              "      <td>180.0</td>\n",
              "    </tr>\n",
              "    <tr>\n",
              "      <th>3</th>\n",
              "      <td>7</td>\n",
              "      <td>12.0</td>\n",
              "      <td>12.0</td>\n",
              "      <td>30</td>\n",
              "      <td>360.0</td>\n",
              "    </tr>\n",
              "    <tr>\n",
              "      <th>4</th>\n",
              "      <td>7</td>\n",
              "      <td>1.0</td>\n",
              "      <td>1.0</td>\n",
              "      <td>30</td>\n",
              "      <td>30.0</td>\n",
              "    </tr>\n",
              "  </tbody>\n",
              "</table>\n",
              "</div>"
            ],
            "text/plain": [
              "   Category_ID  DOP_Refrigerate_Min  ...  DOP_Refrigerate_Metric  mean_days\n",
              "0            7                  1.0  ...                      30       45.0\n",
              "1            7                  1.0  ...                       7       10.5\n",
              "2            7                  6.0  ...                      30      180.0\n",
              "3            7                 12.0  ...                      30      360.0\n",
              "4            7                  1.0  ...                      30       30.0\n",
              "\n",
              "[5 rows x 5 columns]"
            ]
          },
          "metadata": {
            "tags": []
          },
          "execution_count": 144
        }
      ]
    },
    {
      "cell_type": "code",
      "metadata": {
        "id": "2jDBsF9FzqNl",
        "colab_type": "code",
        "colab": {}
      },
      "source": [
        "df_f = df_f[['Category_ID','mean_days']]"
      ],
      "execution_count": 0,
      "outputs": []
    },
    {
      "cell_type": "code",
      "metadata": {
        "id": "rxCrVoYfz8bB",
        "colab_type": "code",
        "colab": {}
      },
      "source": [
        "df_f['Category_ID'] = df['Category_ID'].astype('category',copy=False)\n",
        "df_f = pd.get_dummies(df_f)"
      ],
      "execution_count": 0,
      "outputs": []
    },
    {
      "cell_type": "code",
      "metadata": {
        "id": "JRHKXWRL0iDb",
        "colab_type": "code",
        "outputId": "20450847-ebe0-4b43-9742-65d3e6befc4e",
        "colab": {
          "base_uri": "https://localhost:8080/",
          "height": 151
        }
      },
      "source": [
        "df_f.columns"
      ],
      "execution_count": 147,
      "outputs": [
        {
          "output_type": "execute_result",
          "data": {
            "text/plain": [
              "Index(['mean_days', 'Category_ID_1', 'Category_ID_2', 'Category_ID_3',\n",
              "       'Category_ID_4', 'Category_ID_5', 'Category_ID_6', 'Category_ID_7',\n",
              "       'Category_ID_8', 'Category_ID_9', 'Category_ID_10', 'Category_ID_11',\n",
              "       'Category_ID_12', 'Category_ID_13', 'Category_ID_14', 'Category_ID_15',\n",
              "       'Category_ID_16', 'Category_ID_17', 'Category_ID_18', 'Category_ID_19',\n",
              "       'Category_ID_20', 'Category_ID_21', 'Category_ID_22', 'Category_ID_23',\n",
              "       'Category_ID_24', 'Category_ID_25'],\n",
              "      dtype='object')"
            ]
          },
          "metadata": {
            "tags": []
          },
          "execution_count": 147
        }
      ]
    },
    {
      "cell_type": "code",
      "metadata": {
        "id": "lq91YM-O1isb",
        "colab_type": "code",
        "colab": {
          "base_uri": "https://localhost:8080/",
          "height": 215
        },
        "outputId": "f22458a2-9479-4c31-bed0-9a089176d8bd"
      },
      "source": [
        "df_f.head()"
      ],
      "execution_count": 148,
      "outputs": [
        {
          "output_type": "execute_result",
          "data": {
            "text/html": [
              "<div>\n",
              "<style scoped>\n",
              "    .dataframe tbody tr th:only-of-type {\n",
              "        vertical-align: middle;\n",
              "    }\n",
              "\n",
              "    .dataframe tbody tr th {\n",
              "        vertical-align: top;\n",
              "    }\n",
              "\n",
              "    .dataframe thead th {\n",
              "        text-align: right;\n",
              "    }\n",
              "</style>\n",
              "<table border=\"1\" class=\"dataframe\">\n",
              "  <thead>\n",
              "    <tr style=\"text-align: right;\">\n",
              "      <th></th>\n",
              "      <th>mean_days</th>\n",
              "      <th>Category_ID_1</th>\n",
              "      <th>Category_ID_2</th>\n",
              "      <th>Category_ID_3</th>\n",
              "      <th>Category_ID_4</th>\n",
              "      <th>Category_ID_5</th>\n",
              "      <th>Category_ID_6</th>\n",
              "      <th>Category_ID_7</th>\n",
              "      <th>Category_ID_8</th>\n",
              "      <th>Category_ID_9</th>\n",
              "      <th>Category_ID_10</th>\n",
              "      <th>Category_ID_11</th>\n",
              "      <th>Category_ID_12</th>\n",
              "      <th>Category_ID_13</th>\n",
              "      <th>Category_ID_14</th>\n",
              "      <th>Category_ID_15</th>\n",
              "      <th>Category_ID_16</th>\n",
              "      <th>Category_ID_17</th>\n",
              "      <th>Category_ID_18</th>\n",
              "      <th>Category_ID_19</th>\n",
              "      <th>Category_ID_20</th>\n",
              "      <th>Category_ID_21</th>\n",
              "      <th>Category_ID_22</th>\n",
              "      <th>Category_ID_23</th>\n",
              "      <th>Category_ID_24</th>\n",
              "      <th>Category_ID_25</th>\n",
              "    </tr>\n",
              "  </thead>\n",
              "  <tbody>\n",
              "    <tr>\n",
              "      <th>0</th>\n",
              "      <td>45.0</td>\n",
              "      <td>0</td>\n",
              "      <td>0</td>\n",
              "      <td>0</td>\n",
              "      <td>0</td>\n",
              "      <td>0</td>\n",
              "      <td>0</td>\n",
              "      <td>1</td>\n",
              "      <td>0</td>\n",
              "      <td>0</td>\n",
              "      <td>0</td>\n",
              "      <td>0</td>\n",
              "      <td>0</td>\n",
              "      <td>0</td>\n",
              "      <td>0</td>\n",
              "      <td>0</td>\n",
              "      <td>0</td>\n",
              "      <td>0</td>\n",
              "      <td>0</td>\n",
              "      <td>0</td>\n",
              "      <td>0</td>\n",
              "      <td>0</td>\n",
              "      <td>0</td>\n",
              "      <td>0</td>\n",
              "      <td>0</td>\n",
              "      <td>0</td>\n",
              "    </tr>\n",
              "    <tr>\n",
              "      <th>1</th>\n",
              "      <td>10.5</td>\n",
              "      <td>0</td>\n",
              "      <td>0</td>\n",
              "      <td>0</td>\n",
              "      <td>0</td>\n",
              "      <td>0</td>\n",
              "      <td>0</td>\n",
              "      <td>1</td>\n",
              "      <td>0</td>\n",
              "      <td>0</td>\n",
              "      <td>0</td>\n",
              "      <td>0</td>\n",
              "      <td>0</td>\n",
              "      <td>0</td>\n",
              "      <td>0</td>\n",
              "      <td>0</td>\n",
              "      <td>0</td>\n",
              "      <td>0</td>\n",
              "      <td>0</td>\n",
              "      <td>0</td>\n",
              "      <td>0</td>\n",
              "      <td>0</td>\n",
              "      <td>0</td>\n",
              "      <td>0</td>\n",
              "      <td>0</td>\n",
              "      <td>0</td>\n",
              "    </tr>\n",
              "    <tr>\n",
              "      <th>2</th>\n",
              "      <td>180.0</td>\n",
              "      <td>0</td>\n",
              "      <td>0</td>\n",
              "      <td>0</td>\n",
              "      <td>0</td>\n",
              "      <td>0</td>\n",
              "      <td>0</td>\n",
              "      <td>1</td>\n",
              "      <td>0</td>\n",
              "      <td>0</td>\n",
              "      <td>0</td>\n",
              "      <td>0</td>\n",
              "      <td>0</td>\n",
              "      <td>0</td>\n",
              "      <td>0</td>\n",
              "      <td>0</td>\n",
              "      <td>0</td>\n",
              "      <td>0</td>\n",
              "      <td>0</td>\n",
              "      <td>0</td>\n",
              "      <td>0</td>\n",
              "      <td>0</td>\n",
              "      <td>0</td>\n",
              "      <td>0</td>\n",
              "      <td>0</td>\n",
              "      <td>0</td>\n",
              "    </tr>\n",
              "    <tr>\n",
              "      <th>3</th>\n",
              "      <td>360.0</td>\n",
              "      <td>0</td>\n",
              "      <td>0</td>\n",
              "      <td>0</td>\n",
              "      <td>0</td>\n",
              "      <td>0</td>\n",
              "      <td>0</td>\n",
              "      <td>1</td>\n",
              "      <td>0</td>\n",
              "      <td>0</td>\n",
              "      <td>0</td>\n",
              "      <td>0</td>\n",
              "      <td>0</td>\n",
              "      <td>0</td>\n",
              "      <td>0</td>\n",
              "      <td>0</td>\n",
              "      <td>0</td>\n",
              "      <td>0</td>\n",
              "      <td>0</td>\n",
              "      <td>0</td>\n",
              "      <td>0</td>\n",
              "      <td>0</td>\n",
              "      <td>0</td>\n",
              "      <td>0</td>\n",
              "      <td>0</td>\n",
              "      <td>0</td>\n",
              "    </tr>\n",
              "    <tr>\n",
              "      <th>4</th>\n",
              "      <td>30.0</td>\n",
              "      <td>0</td>\n",
              "      <td>0</td>\n",
              "      <td>0</td>\n",
              "      <td>0</td>\n",
              "      <td>0</td>\n",
              "      <td>0</td>\n",
              "      <td>1</td>\n",
              "      <td>0</td>\n",
              "      <td>0</td>\n",
              "      <td>0</td>\n",
              "      <td>0</td>\n",
              "      <td>0</td>\n",
              "      <td>0</td>\n",
              "      <td>0</td>\n",
              "      <td>0</td>\n",
              "      <td>0</td>\n",
              "      <td>0</td>\n",
              "      <td>0</td>\n",
              "      <td>0</td>\n",
              "      <td>0</td>\n",
              "      <td>0</td>\n",
              "      <td>0</td>\n",
              "      <td>0</td>\n",
              "      <td>0</td>\n",
              "      <td>0</td>\n",
              "    </tr>\n",
              "  </tbody>\n",
              "</table>\n",
              "</div>"
            ],
            "text/plain": [
              "   mean_days  Category_ID_1  ...  Category_ID_24  Category_ID_25\n",
              "0       45.0              0  ...               0               0\n",
              "1       10.5              0  ...               0               0\n",
              "2      180.0              0  ...               0               0\n",
              "3      360.0              0  ...               0               0\n",
              "4       30.0              0  ...               0               0\n",
              "\n",
              "[5 rows x 26 columns]"
            ]
          },
          "metadata": {
            "tags": []
          },
          "execution_count": 148
        }
      ]
    },
    {
      "cell_type": "code",
      "metadata": {
        "id": "pV93KyG8LsT4",
        "colab_type": "code",
        "colab": {
          "base_uri": "https://localhost:8080/",
          "height": 300
        },
        "outputId": "1844337f-db1d-454c-b0d8-4795669b2edb"
      },
      "source": [
        "sns.distplot(df_f['mean_days'])\n",
        "target = np.log(df_f['mean_days'])\n",
        "sns.distplot(target)"
      ],
      "execution_count": 150,
      "outputs": [
        {
          "output_type": "execute_result",
          "data": {
            "text/plain": [
              "<matplotlib.axes._subplots.AxesSubplot at 0x7f0805f81198>"
            ]
          },
          "metadata": {
            "tags": []
          },
          "execution_count": 150
        },
        {
          "output_type": "display_data",
          "data": {
            "image/png": "[encoded data removed]",
            "text/plain": [
              "<Figure size 432x288 with 1 Axes>"
            ]
          },
          "metadata": {
            "tags": [],
            "needs_background": "light"
          }
        }
      ]
    },
    {
      "cell_type": "code",
      "metadata": {
        "id": "nPLMnCjMNAQQ",
        "colab_type": "code",
        "colab": {}
      },
      "source": [
        "Y = df_f['mean_days']\n",
        "df_x = df_f\n",
        "del df_x['mean_days']\n"
      ],
      "execution_count": 0,
      "outputs": []
    },
    {
      "cell_type": "code",
      "metadata": {
        "id": "LiAvU4hwOxco",
        "colab_type": "code",
        "colab": {}
      },
      "source": [
        "x_train,x_test,y_train,y_test = train_test_split(df_x,Y,test_size=0.3,random_state = 42)"
      ],
      "execution_count": 0,
      "outputs": []
    },
    {
      "cell_type": "code",
      "metadata": {
        "id": "azp-JBySQFdA",
        "colab_type": "code",
        "colab": {
          "base_uri": "https://localhost:8080/",
          "height": 34
        },
        "outputId": "0de18538-ca4c-4139-ee95-3d094bde4046"
      },
      "source": [
        "print(len(x_train))"
      ],
      "execution_count": 153,
      "outputs": [
        {
          "output_type": "stream",
          "text": [
            "164\n"
          ],
          "name": "stdout"
        }
      ]
    },
    {
      "cell_type": "code",
      "metadata": {
        "id": "On_nvWyLQNB1",
        "colab_type": "code",
        "colab": {
          "base_uri": "https://localhost:8080/",
          "height": 34
        },
        "outputId": "5330bc39-c5c7-4a94-ad60-d5f39c611260"
      },
      "source": [
        "print(len(x_test))"
      ],
      "execution_count": 154,
      "outputs": [
        {
          "output_type": "stream",
          "text": [
            "71\n"
          ],
          "name": "stdout"
        }
      ]
    },
    {
      "cell_type": "code",
      "metadata": {
        "id": "9XeoEen1QPOE",
        "colab_type": "code",
        "colab": {}
      },
      "source": [
        "def build_model(l):\n",
        "  model = keras.Sequential([\n",
        "    layers.Dense(64, activation='relu', input_shape=[l]),\n",
        "    layers.Dense(64, activation='relu'),\n",
        "    layers.Dense(1)\n",
        "  ])\n",
        "\n",
        "  optimizer = tf.keras.optimizers.RMSprop(0.001)\n",
        "\n",
        "  model.compile(loss='mse',\n",
        "                optimizer=optimizer,\n",
        "                metrics=['mae', 'mse'])\n",
        "  return model"
      ],
      "execution_count": 0,
      "outputs": []
    },
    {
      "cell_type": "code",
      "metadata": {
        "id": "T7xzBD6EQtj5",
        "colab_type": "code",
        "colab": {}
      },
      "source": [
        "model = build_model(len(df_x.columns))"
      ],
      "execution_count": 0,
      "outputs": []
    },
    {
      "cell_type": "code",
      "metadata": {
        "id": "nc2IEHI3QvtH",
        "colab_type": "code",
        "colab": {
          "base_uri": "https://localhost:8080/",
          "height": 252
        },
        "outputId": "12e5c0c6-03fd-4a0c-f3c3-77d4e602ed33"
      },
      "source": [
        "model.summary()"
      ],
      "execution_count": 157,
      "outputs": [
        {
          "output_type": "stream",
          "text": [
            "Model: \"sequential_4\"\n",
            "_________________________________________________________________\n",
            "Layer (type)                 Output Shape              Param #   \n",
            "=================================================================\n",
            "dense_12 (Dense)             (None, 64)                1664      \n",
            "_________________________________________________________________\n",
            "dense_13 (Dense)             (None, 64)                4160      \n",
            "_________________________________________________________________\n",
            "dense_14 (Dense)             (None, 1)                 65        \n",
            "=================================================================\n",
            "Total params: 5,889\n",
            "Trainable params: 5,889\n",
            "Non-trainable params: 0\n",
            "_________________________________________________________________\n"
          ],
          "name": "stdout"
        }
      ]
    },
    {
      "cell_type": "code",
      "metadata": {
        "id": "fV1WBysTQ-Pr",
        "colab_type": "code",
        "colab": {
          "base_uri": "https://localhost:8080/",
          "height": 406
        },
        "outputId": "24d054bc-48a0-4c49-a38a-fc44b5523ea6"
      },
      "source": [
        "EPOCHS = 10\n",
        "\n",
        "history = model.fit(\n",
        "  x_train, y_train,\n",
        "  epochs=EPOCHS, validation_split = 0.2, verbose=1,\n",
        "  callbacks=[tfdocs.modeling.EpochDots()])"
      ],
      "execution_count": 158,
      "outputs": [
        {
          "output_type": "stream",
          "text": [
            "Epoch 1/10\n",
            "1/5 [=====>........................] - ETA: 0s - loss: 9881.3037 - mae: 40.0048 - mse: 9881.3037\n",
            "Epoch: 0, loss:11336.8154,  mae:44.1313,  mse:11336.8154,  val_loss:36964.2109,  val_mae:93.5494,  val_mse:36964.2109,  \n",
            "5/5 [==============================] - 0s 23ms/step - loss: 11336.8154 - mae: 44.1313 - mse: 11336.8154 - val_loss: 36964.2109 - val_mae: 93.5494 - val_mse: 36964.2109\n",
            "Epoch 2/10\n",
            "5/5 [==============================] - 0s 7ms/step - loss: 11315.1230 - mae: 43.8773 - mse: 11315.1230 - val_loss: 36929.0117 - val_mae: 93.3442 - val_mse: 36929.0117\n",
            "Epoch 3/10\n",
            "5/5 [==============================] - 0s 8ms/step - loss: 11295.3740 - mae: 43.6645 - mse: 11295.3740 - val_loss: 36886.6484 - val_mae: 93.0983 - val_mse: 36886.6484\n",
            "Epoch 4/10\n",
            "5/5 [==============================] - 0s 7ms/step - loss: 11271.3193 - mae: 43.4100 - mse: 11271.3193 - val_loss: 36835.9570 - val_mae: 92.8120 - val_mse: 36835.9570\n",
            "Epoch 5/10\n",
            "5/5 [==============================] - 0s 7ms/step - loss: 11246.4053 - mae: 43.0924 - mse: 11246.4053 - val_loss: 36800.1875 - val_mae: 92.6191 - val_mse: 36800.1875\n",
            "Epoch 6/10\n",
            "5/5 [==============================] - 0s 7ms/step - loss: 11228.4072 - mae: 42.8673 - mse: 11228.4072 - val_loss: 36756.0078 - val_mae: 92.3756 - val_mse: 36756.0078\n",
            "Epoch 7/10\n",
            "5/5 [==============================] - 0s 7ms/step - loss: 11204.9375 - mae: 42.6540 - mse: 11204.9375 - val_loss: 36710.0820 - val_mae: 92.1292 - val_mse: 36710.0820\n",
            "Epoch 8/10\n",
            "5/5 [==============================] - 0s 9ms/step - loss: 11182.1279 - mae: 42.4152 - mse: 11182.1279 - val_loss: 36661.3633 - val_mae: 91.9122 - val_mse: 36661.3633\n",
            "Epoch 9/10\n",
            "5/5 [==============================] - 0s 7ms/step - loss: 11156.1094 - mae: 42.1779 - mse: 11156.1094 - val_loss: 36607.2227 - val_mae: 91.6839 - val_mse: 36607.2227\n",
            "Epoch 10/10\n",
            "5/5 [==============================] - 0s 7ms/step - loss: 11126.5713 - mae: 41.9346 - mse: 11126.5713 - val_loss: 36544.4062 - val_mae: 91.4159 - val_mse: 36544.4062\n"
          ],
          "name": "stdout"
        }
      ]
    },
    {
      "cell_type": "code",
      "metadata": {
        "id": "qwkmdh_zRY_3",
        "colab_type": "code",
        "colab": {}
      },
      "source": [
        "test_predictions = model.predict(x_test).flatten()"
      ],
      "execution_count": 0,
      "outputs": []
    },
    {
      "cell_type": "code",
      "metadata": {
        "id": "14Q2BioNUq0E",
        "colab_type": "code",
        "colab": {
          "base_uri": "https://localhost:8080/",
          "height": 202
        },
        "outputId": "2a8bdede-c6e0-4d42-fa5c-ed88e9891a82"
      },
      "source": [
        "print(test_predictions)"
      ],
      "execution_count": 160,
      "outputs": [
        {
          "output_type": "stream",
          "text": [
            "[2.687687  2.9525425 2.8039129 2.8517563 1.5965692 2.8601928 3.0893\n",
            " 2.1488283 2.5687501 2.8517563 2.5687501 3.2486565 2.8517563 3.2486565\n",
            " 3.0893    2.9525425 2.8517563 1.6988145 2.5687501 3.2486565 3.0893\n",
            " 2.8517563 2.1488283 2.9525425 2.8039129 3.2486565 2.687687  2.8039129\n",
            " 2.687687  2.8517563 2.952542  3.2486565 3.2486565 2.9525425 1.5965692\n",
            " 2.8039129 2.8039129 2.8517563 2.8039129 2.8039129 2.8039129 2.9525425\n",
            " 1.5965692 3.2486565 3.0893    2.8039129 2.687687  1.6988145 2.8039129\n",
            " 2.9525425 2.8039129 2.8039129 2.8039129 3.0893    2.8601928 2.1488283\n",
            " 2.8039129 2.687687  3.2486565 2.1488283 2.8039129 2.8039129 2.8601925\n",
            " 2.56875   2.687687  3.0814297 1.6988145 2.687687  2.687687  3.2486565\n",
            " 1.6988145]\n"
          ],
          "name": "stdout"
        }
      ]
    },
    {
      "cell_type": "code",
      "metadata": {
        "id": "SgmnfEgWUtCJ",
        "colab_type": "code",
        "colab": {
          "base_uri": "https://localhost:8080/",
          "height": 215
        },
        "outputId": "eb7fde58-c96e-469c-a758-d92b6e0bf4d3"
      },
      "source": [
        "x_test.head()"
      ],
      "execution_count": 161,
      "outputs": [
        {
          "output_type": "execute_result",
          "data": {
            "text/html": [
              "<div>\n",
              "<style scoped>\n",
              "    .dataframe tbody tr th:only-of-type {\n",
              "        vertical-align: middle;\n",
              "    }\n",
              "\n",
              "    .dataframe tbody tr th {\n",
              "        vertical-align: top;\n",
              "    }\n",
              "\n",
              "    .dataframe thead th {\n",
              "        text-align: right;\n",
              "    }\n",
              "</style>\n",
              "<table border=\"1\" class=\"dataframe\">\n",
              "  <thead>\n",
              "    <tr style=\"text-align: right;\">\n",
              "      <th></th>\n",
              "      <th>Category_ID_1</th>\n",
              "      <th>Category_ID_2</th>\n",
              "      <th>Category_ID_3</th>\n",
              "      <th>Category_ID_4</th>\n",
              "      <th>Category_ID_5</th>\n",
              "      <th>Category_ID_6</th>\n",
              "      <th>Category_ID_7</th>\n",
              "      <th>Category_ID_8</th>\n",
              "      <th>Category_ID_9</th>\n",
              "      <th>Category_ID_10</th>\n",
              "      <th>Category_ID_11</th>\n",
              "      <th>Category_ID_12</th>\n",
              "      <th>Category_ID_13</th>\n",
              "      <th>Category_ID_14</th>\n",
              "      <th>Category_ID_15</th>\n",
              "      <th>Category_ID_16</th>\n",
              "      <th>Category_ID_17</th>\n",
              "      <th>Category_ID_18</th>\n",
              "      <th>Category_ID_19</th>\n",
              "      <th>Category_ID_20</th>\n",
              "      <th>Category_ID_21</th>\n",
              "      <th>Category_ID_22</th>\n",
              "      <th>Category_ID_23</th>\n",
              "      <th>Category_ID_24</th>\n",
              "      <th>Category_ID_25</th>\n",
              "    </tr>\n",
              "  </thead>\n",
              "  <tbody>\n",
              "    <tr>\n",
              "      <th>76</th>\n",
              "      <td>0</td>\n",
              "      <td>0</td>\n",
              "      <td>0</td>\n",
              "      <td>0</td>\n",
              "      <td>0</td>\n",
              "      <td>0</td>\n",
              "      <td>0</td>\n",
              "      <td>0</td>\n",
              "      <td>0</td>\n",
              "      <td>0</td>\n",
              "      <td>0</td>\n",
              "      <td>1</td>\n",
              "      <td>0</td>\n",
              "      <td>0</td>\n",
              "      <td>0</td>\n",
              "      <td>0</td>\n",
              "      <td>0</td>\n",
              "      <td>0</td>\n",
              "      <td>0</td>\n",
              "      <td>0</td>\n",
              "      <td>0</td>\n",
              "      <td>0</td>\n",
              "      <td>0</td>\n",
              "      <td>0</td>\n",
              "      <td>0</td>\n",
              "    </tr>\n",
              "    <tr>\n",
              "      <th>460</th>\n",
              "      <td>0</td>\n",
              "      <td>0</td>\n",
              "      <td>0</td>\n",
              "      <td>0</td>\n",
              "      <td>0</td>\n",
              "      <td>0</td>\n",
              "      <td>0</td>\n",
              "      <td>0</td>\n",
              "      <td>0</td>\n",
              "      <td>0</td>\n",
              "      <td>0</td>\n",
              "      <td>0</td>\n",
              "      <td>0</td>\n",
              "      <td>0</td>\n",
              "      <td>0</td>\n",
              "      <td>0</td>\n",
              "      <td>0</td>\n",
              "      <td>1</td>\n",
              "      <td>0</td>\n",
              "      <td>0</td>\n",
              "      <td>0</td>\n",
              "      <td>0</td>\n",
              "      <td>0</td>\n",
              "      <td>0</td>\n",
              "      <td>0</td>\n",
              "    </tr>\n",
              "    <tr>\n",
              "      <th>280</th>\n",
              "      <td>0</td>\n",
              "      <td>0</td>\n",
              "      <td>0</td>\n",
              "      <td>0</td>\n",
              "      <td>0</td>\n",
              "      <td>0</td>\n",
              "      <td>0</td>\n",
              "      <td>0</td>\n",
              "      <td>0</td>\n",
              "      <td>0</td>\n",
              "      <td>0</td>\n",
              "      <td>0</td>\n",
              "      <td>0</td>\n",
              "      <td>0</td>\n",
              "      <td>0</td>\n",
              "      <td>0</td>\n",
              "      <td>0</td>\n",
              "      <td>0</td>\n",
              "      <td>1</td>\n",
              "      <td>0</td>\n",
              "      <td>0</td>\n",
              "      <td>0</td>\n",
              "      <td>0</td>\n",
              "      <td>0</td>\n",
              "      <td>0</td>\n",
              "    </tr>\n",
              "    <tr>\n",
              "      <th>9</th>\n",
              "      <td>0</td>\n",
              "      <td>0</td>\n",
              "      <td>0</td>\n",
              "      <td>0</td>\n",
              "      <td>0</td>\n",
              "      <td>0</td>\n",
              "      <td>1</td>\n",
              "      <td>0</td>\n",
              "      <td>0</td>\n",
              "      <td>0</td>\n",
              "      <td>0</td>\n",
              "      <td>0</td>\n",
              "      <td>0</td>\n",
              "      <td>0</td>\n",
              "      <td>0</td>\n",
              "      <td>0</td>\n",
              "      <td>0</td>\n",
              "      <td>0</td>\n",
              "      <td>0</td>\n",
              "      <td>0</td>\n",
              "      <td>0</td>\n",
              "      <td>0</td>\n",
              "      <td>0</td>\n",
              "      <td>0</td>\n",
              "      <td>0</td>\n",
              "    </tr>\n",
              "    <tr>\n",
              "      <th>153</th>\n",
              "      <td>0</td>\n",
              "      <td>0</td>\n",
              "      <td>0</td>\n",
              "      <td>0</td>\n",
              "      <td>0</td>\n",
              "      <td>0</td>\n",
              "      <td>0</td>\n",
              "      <td>0</td>\n",
              "      <td>0</td>\n",
              "      <td>0</td>\n",
              "      <td>0</td>\n",
              "      <td>0</td>\n",
              "      <td>0</td>\n",
              "      <td>0</td>\n",
              "      <td>0</td>\n",
              "      <td>0</td>\n",
              "      <td>0</td>\n",
              "      <td>0</td>\n",
              "      <td>0</td>\n",
              "      <td>0</td>\n",
              "      <td>0</td>\n",
              "      <td>1</td>\n",
              "      <td>0</td>\n",
              "      <td>0</td>\n",
              "      <td>0</td>\n",
              "    </tr>\n",
              "  </tbody>\n",
              "</table>\n",
              "</div>"
            ],
            "text/plain": [
              "     Category_ID_1  Category_ID_2  ...  Category_ID_24  Category_ID_25\n",
              "76               0              0  ...               0               0\n",
              "460              0              0  ...               0               0\n",
              "280              0              0  ...               0               0\n",
              "9                0              0  ...               0               0\n",
              "153              0              0  ...               0               0\n",
              "\n",
              "[5 rows x 25 columns]"
            ]
          },
          "metadata": {
            "tags": []
          },
          "execution_count": 161
        }
      ]
    },
    {
      "cell_type": "code",
      "metadata": {
        "id": "1ox4_gaaU6p4",
        "colab_type": "code",
        "colab": {
          "base_uri": "https://localhost:8080/",
          "height": 34
        },
        "outputId": "9faf8002-605c-40b6-f8e4-58aef69069ad"
      },
      "source": [
        "model.save('regression')"
      ],
      "execution_count": 163,
      "outputs": [
        {
          "output_type": "stream",
          "text": [
            "INFO:tensorflow:Assets written to: regression/assets\n"
          ],
          "name": "stdout"
        }
      ]
    },
    {
      "cell_type": "code",
      "metadata": {
        "id": "aU2-Ohq3WJLY",
        "colab_type": "code",
        "colab": {
          "base_uri": "https://localhost:8080/",
          "height": 118
        },
        "outputId": "e251b938-c764-400c-8a20-25da87d42088"
      },
      "source": [
        "!zip -r /regression.zip regression"
      ],
      "execution_count": 164,
      "outputs": [
        {
          "output_type": "stream",
          "text": [
            "  adding: regression/ (stored 0%)\n",
            "  adding: regression/variables/ (stored 0%)\n",
            "  adding: regression/variables/variables.data-00000-of-00001 (deflated 18%)\n",
            "  adding: regression/variables/variables.index (deflated 64%)\n",
            "  adding: regression/assets/ (stored 0%)\n",
            "  adding: regression/saved_model.pb (deflated 88%)\n"
          ],
          "name": "stdout"
        }
      ]
    },
    {
      "cell_type": "code",
      "metadata": {
        "id": "Y7vC0XNRWqxS",
        "colab_type": "code",
        "colab": {}
      },
      "source": [
        "from google.colab import files\n",
        "files.download(\"/regression.zip\")"
      ],
      "execution_count": 0,
      "outputs": []
    },
    {
      "cell_type": "code",
      "metadata": {
        "id": "yLW0sTU4W3yA",
        "colab_type": "code",
        "colab": {}
      },
      "source": [
        ""
      ],
      "execution_count": 0,
      "outputs": []
    }
  ]
}